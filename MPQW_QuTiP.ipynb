{
 "cells": [
  {
   "cell_type": "markdown",
   "metadata": {},
   "source": [
    "# Modeling multi-photon quantum walk in QuTiP"
   ]
  },
  {
   "cell_type": "markdown",
   "metadata": {},
   "source": [
    "Importing required libraries:"
   ]
  },
  {
   "cell_type": "code",
   "execution_count": 1,
   "metadata": {},
   "outputs": [
    {
     "ename": "ModuleNotFoundError",
     "evalue": "No module named 'qutip'",
     "traceback": [
      "\u001b[1;31m---------------------------------------------------------------------------\u001b[0m",
      "\u001b[1;31mModuleNotFoundError\u001b[0m                       Traceback (most recent call last)",
      "\u001b[1;32m<ipython-input-1-344aaae9613b>\u001b[0m in \u001b[0;36m<module>\u001b[1;34m()\u001b[0m\n\u001b[1;32m----> 1\u001b[1;33m \u001b[1;32mfrom\u001b[0m \u001b[0mqutip\u001b[0m \u001b[1;32mimport\u001b[0m \u001b[1;33m*\u001b[0m\u001b[1;33m\u001b[0m\u001b[0m\n\u001b[0m\u001b[0;32m      2\u001b[0m \u001b[1;32mimport\u001b[0m \u001b[0mmatplotlib\u001b[0m\u001b[1;33m.\u001b[0m\u001b[0mpyplot\u001b[0m \u001b[1;32mas\u001b[0m \u001b[0mplt\u001b[0m\u001b[1;33m\u001b[0m\u001b[0m\n\u001b[0;32m      3\u001b[0m \u001b[1;32mimport\u001b[0m \u001b[0mnumpy\u001b[0m \u001b[1;32mas\u001b[0m \u001b[0mnp\u001b[0m\u001b[1;33m\u001b[0m\u001b[0m\n\u001b[0;32m      4\u001b[0m \u001b[1;33m\u001b[0m\u001b[0m\n\u001b[0;32m      5\u001b[0m \u001b[1;32mimport\u001b[0m \u001b[0mtime\u001b[0m\u001b[1;33m\u001b[0m\u001b[0m\n",
      "\u001b[1;31mModuleNotFoundError\u001b[0m: No module named 'qutip'"
     ],
     "output_type": "error"
    },
    {
     "ename": "ModuleNotFoundError",
     "evalue": "No module named 'qutip'",
     "traceback": [
      "\u001b[1;31m---------------------------------------------------------------------------\u001b[0m",
      "\u001b[1;31mModuleNotFoundError\u001b[0m                       Traceback (most recent call last)",
      "\u001b[1;32m<ipython-input-1-344aaae9613b>\u001b[0m in \u001b[0;36m<module>\u001b[1;34m()\u001b[0m\n\u001b[1;32m----> 1\u001b[1;33m \u001b[1;32mfrom\u001b[0m \u001b[0mqutip\u001b[0m \u001b[1;32mimport\u001b[0m \u001b[1;33m*\u001b[0m\u001b[1;33m\u001b[0m\u001b[0m\n\u001b[0m\u001b[0;32m      2\u001b[0m \u001b[1;32mimport\u001b[0m \u001b[0mmatplotlib\u001b[0m\u001b[1;33m.\u001b[0m\u001b[0mpyplot\u001b[0m \u001b[1;32mas\u001b[0m \u001b[0mplt\u001b[0m\u001b[1;33m\u001b[0m\u001b[0m\n\u001b[0;32m      3\u001b[0m \u001b[1;32mimport\u001b[0m \u001b[0mnumpy\u001b[0m \u001b[1;32mas\u001b[0m \u001b[0mnp\u001b[0m\u001b[1;33m\u001b[0m\u001b[0m\n\u001b[0;32m      4\u001b[0m \u001b[1;33m\u001b[0m\u001b[0m\n\u001b[0;32m      5\u001b[0m \u001b[1;32mimport\u001b[0m \u001b[0mtime\u001b[0m\u001b[1;33m\u001b[0m\u001b[0m\n",
      "\u001b[1;31mModuleNotFoundError\u001b[0m: No module named 'qutip'"
     ],
     "output_type": "error"
    }
   ],
   "source": [
    "from qutip import *\n",
    "import matplotlib.pyplot as plt\n",
    "import numpy as np\n",
    "\n",
    "import time\n",
    "#import psutil\n"
   ]
  },
  {
   "cell_type": "markdown",
   "metadata": {},
   "source": [
    "Creating class \"system\" which will create set of operators and Hamiltonian respective to given parameters:"
   ]
  },
  {
   "cell_type": "code",
   "execution_count": 2,
   "metadata": {},
   "outputs": [],
   "source": [
    "class system:\n",
    "    def __init__(self, ham_matrix, psi_init, fock_dim):\n",
    "        self.a = []\n",
    "        for i in range(0,len(ham_matrix)):\n",
    "            op_list = []\n",
    "            for j in range(0,len(ham_matrix)):\n",
    "                if j == i:\n",
    "                    op_list.append(destroy(fock_dim))\n",
    "                else:\n",
    "                    op_list.append(qeye(fock_dim))\n",
    "            self.a.append(tensor(op_list))\n",
    "        \n",
    "        for i in range(0,len(ham_matrix)):\n",
    "            for j in range(0,len(ham_matrix)):\n",
    "                if i == 0 and j == 0:\n",
    "                    self.H = ham_matrix[0][0]*self.a[0].dag()*self.a[0]\n",
    "                else:\n",
    "                    self.H = self.H + ham_matrix[i][j]*self.a[i].dag()*self.a[j]\n",
    "                    \n",
    "    def gen_c_ops(self, gamma):\n",
    "        c_ops_list = []\n",
    "        for i in range(0,len(self.a)):\n",
    "            c_ops_list.append(gamma*self.a[i])\n",
    "        return c_ops_list       \n",
    "\n",
    "    def gen_cormatrix_2(self, psi):\n",
    "        cormatrix = np.zeros((len(self.a),len(self.a)), dtype = complex)\n",
    "        for i in range(0,len(self.a)):\n",
    "            for j in range(0,len(self.a)):\n",
    "                temp_op = self.a[i].dag()*self.a[j].dag()*self.a[i]*self.a[j]\n",
    "                cormatrix[i][j] = temp_op.matrix_element(psi.dag(),psi)\n",
    "        return cormatrix\n",
    "    \n",
    "    def gen_cormatrix_2_loss(self, psi):\n",
    "        cormatrix = np.zeros((len(self.a),len(self.a)), dtype = complex)\n",
    "        for i in range(0,len(self.a)):\n",
    "            for j in range(0,len(self.a)):\n",
    "                temp_op = self.a[i].dag()*self.a[j].dag()*self.a[i]*self.a[j]\n",
    "                temp_op_j = psi*temp_op\n",
    "                cormatrix[i][j] = temp_op_j.tr()\n",
    "        return cormatrix"
   ]
  },
  {
   "cell_type": "markdown",
   "metadata": {},
   "source": [
    "Creating function \"psi_init\" which will create initial state out of given vector:"
   ]
  },
  {
   "cell_type": "code",
   "execution_count": 3,
   "metadata": {},
   "outputs": [],
   "source": [
    "def psi_init(psi_vector, fock_dim):\n",
    "    psi_list = []\n",
    "    for i in range(0,len(psi_vector)):\n",
    "        psi_list.append(fock(fock_dim,psi_vector[i])) \n",
    "    return tensor(psi_list)"
   ]
  },
  {
   "cell_type": "markdown",
   "metadata": {},
   "source": [
    "To perform simulation we need to define matrix of Hamiltonian coefficients, it can be done manually by creating array. In our case we will be creating matrix for a unifrom waveguide array with equal coupling coefficients and propagation constants. It will be done in form of a function which takes number of waveguides, propagation constant and coupling coefficient as an input and returns num_wg x num_wg matrix for our Hamiltonian."
   ]
  },
  {
   "cell_type": "code",
   "execution_count": 4,
   "metadata": {},
   "outputs": [],
   "source": [
    "def uniform_array(num_wg, b, k):\n",
    "    ham_matrix = np.zeros((num_wg,num_wg))\n",
    "    for i in range(0,num_wg):\n",
    "        for j in range(0,num_wg):\n",
    "            if i == j:\n",
    "                ham_matrix[i][j] = b\n",
    "            elif i == j+1 or j == i+1:\n",
    "                ham_matrix[i][j] = k\n",
    "    return ham_matrix "
   ]
  },
  {
   "cell_type": "markdown",
   "metadata": {},
   "source": [
    "We will simulate uniform array of 10 waveguides. First we need to create initial state which represents two photons being incident into waveguides number 4 and 5. We will create respective vector and then use our \"psi_init\" function to transform it to a quantum object so that QuTiP functions could use it as an inpit. "
   ]
  },
  {
   "cell_type": "code",
   "execution_count": 21,
   "metadata": {},
   "outputs": [],
   "source": [
    "n = 6\n",
    "psi_vector = np.zeros(n)\n",
    "psi_vector = psi_vector.astype(int)\n",
    "psi_vector[2] = 1\n",
    "psi_vector[3] = 1\n",
    "psi0 = psi_init(psi_vector, 3)"
   ]
  },
  {
   "cell_type": "markdown",
   "metadata": {},
   "source": [
    "Now we will initialize out system using our \"system\" class. It will create all required operators and Hamiltonian so we could feed it forward to the solver."
   ]
  },
  {
   "cell_type": "code",
   "execution_count": 22,
   "metadata": {},
   "outputs": [],
   "source": [
    "hm = uniform_array(n, 1, 1)\n",
    "qws = system(hm, psi0, 3)\n",
    "times = np.linspace(0,5,100)"
   ]
  },
  {
   "cell_type": "markdown",
   "metadata": {},
   "source": [
    "Now we will use QuTiP function \"sesolve\" to calculate dynamic unitary evolution of state \"psi0\" in a system of 10 waveguides."
   ]
  },
  {
   "cell_type": "code",
   "execution_count": 23,
   "metadata": {},
   "outputs": [
    {
     "name": "stdout",
     "output_type": "stream",
     "text": [
      "0.11129140853881836\n"
     ]
    }
   ],
   "source": [
    "start = time.time()\n",
    "result_un = sesolve(qws.H, psi0, times, [])\n",
    "end = time.time()\n",
    "print(end - start)\n",
    "\n",
    "#result_loss = mesolve(qws.H, psi0, times, qws.gen_c_ops(0.25), [])"
   ]
  },
  {
   "cell_type": "markdown",
   "metadata": {},
   "source": [
    "Finally, we will visuallize our results by plotting evolution of given expectation value over time."
   ]
  },
  {
   "cell_type": "code",
   "execution_count": 70,
   "metadata": {},
   "outputs": [
    {
     "name": "stdout",
     "output_type": "stream",
     "text": [
      "111.3203125\n",
      "0.05113506317138672\n",
      "111.34765625\n",
      "0.04963254928588867\n",
      "111.37890625\n",
      "0.05163860321044922\n",
      "111.546875\n",
      "0.06018233299255371\n",
      "112.42578125\n",
      "0.1143186092376709\n",
      "114.78125\n",
      "0.25615429878234863\n",
      "119.81640625\n",
      "0.7988345623016357\n",
      "124.91015625\n",
      "1.6383731365203857\n",
      "154.578125\n",
      "6.876298666000366\n"
     ]
    }
   ],
   "source": [
    "n = list(range(2,11))\n",
    "calc_time = []\n",
    "mem_use = []\n",
    "mem_bg = 0\n",
    "process = psutil.Process(os.getpid())\n",
    "for i in range(0,len(n)):\n",
    "    psi_vector = np.zeros(n[i])\n",
    "    psi_vector = psi_vector.astype(int)\n",
    "    psi_vector[int(round(n[i]/2))] = 1\n",
    "    psi_vector[int(round(n[i]/2-1))] = 1\n",
    "    psi0 = psi_init(psi_vector, 3)\n",
    "    hm = uniform_array(n[i], 1, 1)\n",
    "    qws = system(hm, psi0, 3)\n",
    "    times = np.linspace(0,5,100)\n",
    "    start = time.time()\n",
    "    result_un = sesolve(qws.H, psi0, times, [])\n",
    "    end = time.time()\n",
    "    calc_time.append(end - start)\n",
    "    mem_use.append(process.memory_info().rss/1024/1024)\n",
    "    print(process.memory_info().rss/1024/1024)\n",
    "    print(end - start)"
   ]
  },
  {
   "cell_type": "code",
   "execution_count": 71,
   "metadata": {},
   "outputs": [
    {
     "data": {
      "image/png": "[encoded data removed]",
      "text/plain": [
       "<matplotlib.figure.Figure at 0x2610005dcf8>"
      ]
     },
     "metadata": {},
     "output_type": "display_data"
    }
   ],
   "source": [
    "plt.semilogy(n, calc_time, label = 'Two-photons')\n",
    "plt.legend()\n",
    "plt.ylabel('Calculation time (sec)')\n",
    "plt.xlabel('Number of modes')\n",
    "plt.show()"
   ]
  },
  {
   "cell_type": "code",
   "execution_count": 72,
   "metadata": {},
   "outputs": [
    {
     "data": {
      "image/png": "[encoded data removed]",
      "text/plain": [
       "<matplotlib.figure.Figure at 0x26100d21dd8>"
      ]
     },
     "metadata": {},
     "output_type": "display_data"
    }
   ],
   "source": [
    "plt.semilogy(n, mem_use, label = 'Two-photons')\n",
    "plt.legend()\n",
    "plt.ylabel('Memory usage (Mb)')\n",
    "plt.xlabel('Number of modes')\n",
    "plt.show()"
   ]
  },
  {
   "cell_type": "code",
   "execution_count": 60,
   "metadata": {},
   "outputs": [
    {
     "name": "stdout",
     "output_type": "stream",
     "text": [
      "[6426.25]\n"
     ]
    }
   ],
   "source": [
    "print(mem_use)"
   ]
  },
  {
   "cell_type": "code",
   "execution_count": 52,
   "metadata": {},
   "outputs": [
    {
     "name": "stdout",
     "output_type": "stream",
     "text": [
      "7847.6328125\n"
     ]
    }
   ],
   "source": []
  },
  {
   "cell_type": "code",
   "execution_count": 61,
   "metadata": {},
   "outputs": [
    {
     "ename": "NameError",
     "evalue": "name 'process' is not defined",
     "traceback": [
      "\u001b[1;31m---------------------------------------------------------------------------\u001b[0m",
      "\u001b[1;31mNameError\u001b[0m                                 Traceback (most recent call last)",
      "\u001b[1;32m<ipython-input-61-2fe0086d912f>\u001b[0m in \u001b[0;36m<module>\u001b[1;34m()\u001b[0m\n\u001b[1;32m----> 1\u001b[1;33m \u001b[0mprint\u001b[0m\u001b[1;33m(\u001b[0m\u001b[0mprocess\u001b[0m\u001b[1;33m.\u001b[0m\u001b[0mmemory_info\u001b[0m\u001b[1;33m(\u001b[0m\u001b[1;33m)\u001b[0m\u001b[1;33m.\u001b[0m\u001b[0mrss\u001b[0m\u001b[1;33m)\u001b[0m\u001b[1;33m\u001b[0m\u001b[0m\n\u001b[0m",
      "\u001b[1;31mNameError\u001b[0m: name 'process' is not defined"
     ],
     "output_type": "error"
    }
   ],
   "source": [
    "print(process.memory_info().rss)"
   ]
  },
  {
   "cell_type": "code",
   "execution_count": 64,
   "metadata": {},
   "outputs": [
    {
     "name": "stdout",
     "output_type": "stream",
     "text": [
      "117.38671875\n"
     ]
    }
   ],
   "source": [
    "import os\n"
   ]
  },
  {
   "cell_type": "code",
   "execution_count": null,
   "metadata": {},
   "outputs": [],
   "source": []
  }
 ],
 "metadata": {
  "kernelspec": {
   "display_name": "Python 3",
   "language": "python",
   "name": "python3"
  },
  "language_info": {
   "codemirror_mode": {
    "name": "ipython",
    "version": 3
   },
   "file_extension": ".py",
   "mimetype": "text/x-python",
   "name": "python",
   "nbconvert_exporter": "python",
   "pygments_lexer": "ipython3",
   "version": "3.7.0"
  }
 },
 "nbformat": 4,
 "nbformat_minor": 2
}
